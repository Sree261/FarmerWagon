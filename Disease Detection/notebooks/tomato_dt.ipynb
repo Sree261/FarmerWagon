{
  "nbformat": 4,
  "nbformat_minor": 0,
  "metadata": {
    "colab": {
      "name": "tomato_dt.ipynb",
      "provenance": []
    },
    "kernelspec": {
      "name": "python3",
      "display_name": "Python 3"
    }
  },
  "cells": [
    {
      "cell_type": "code",
      "metadata": {
        "colab": {
          "resources": {
            "http://localhost:8080/nbextensions/google.colab/files.js": {
              "data": "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",
              "ok": true,
              "headers": [
                [
                  "content-type",
                  "application/javascript"
                ]
              ],
              "status": 200,
              "status_text": ""
            }
          },
          "base_uri": "https://localhost:8080/",
          "height": 72
        },
        "id": "hAomeAoR2PNp",
        "outputId": "ea78f715-1787-42d4-9562-dabcb9380963"
      },
      "source": [
        "from google.colab import files\n",
        "uploaded=files.upload()"
      ],
      "execution_count": null,
      "outputs": [
        {
          "output_type": "display_data",
          "data": {
            "text/html": [
              "\n",
              "     <input type=\"file\" id=\"files-35b68a2d-2d39-4482-b88c-c131fc87cfb8\" name=\"files[]\" multiple disabled\n",
              "        style=\"border:none\" />\n",
              "     <output id=\"result-35b68a2d-2d39-4482-b88c-c131fc87cfb8\">\n",
              "      Upload widget is only available when the cell has been executed in the\n",
              "      current browser session. Please rerun this cell to enable.\n",
              "      </output>\n",
              "      <script src=\"/nbextensions/google.colab/files.js\"></script> "
            ],
            "text/plain": [
              "<IPython.core.display.HTML object>"
            ]
          },
          "metadata": {
            "tags": []
          }
        },
        {
          "output_type": "stream",
          "text": [
            "Saving data_tom.zip to data_tom.zip\n"
          ],
          "name": "stdout"
        }
      ]
    },
    {
      "cell_type": "code",
      "metadata": {
        "colab": {
          "base_uri": "https://localhost:8080/"
        },
        "id": "u09aD9Lb2WrO",
        "outputId": "c959bc36-c9b3-49b4-cbc1-142f914387c1"
      },
      "source": [
        "!unzip data_tom.zip"
      ],
      "execution_count": null,
      "outputs": [
        {
          "output_type": "stream",
          "text": [
            "Archive:  data_tom.zip\n",
            "   creating: data_tom/\n",
            "   creating: data_tom/train/\n",
            "   creating: data_tom/train/Bloosom end rot/\n",
            "  inflating: data_tom/train/Bloosom end rot/IMG-20210209-WA0176.jpg  \n",
            "  inflating: data_tom/train/Bloosom end rot/IMG-20210209-WA0177.jpg  \n",
            "  inflating: data_tom/train/Bloosom end rot/IMG-20210210-WA0002.jpg  \n",
            "  inflating: data_tom/train/Bloosom end rot/IMG-20210210-WA0003.jpg  \n",
            " extracting: data_tom/train/Bloosom end rot/IMG-20210210-WA0004.jpg  \n",
            " extracting: data_tom/train/Bloosom end rot/IMG-20210210-WA0005.jpg  \n",
            "  inflating: data_tom/train/Bloosom end rot/img.JPG  \n",
            "  inflating: data_tom/train/Bloosom end rot/img1.JPG  \n",
            "  inflating: data_tom/train/Bloosom end rot/img2.JPG  \n",
            " extracting: data_tom/train/Bloosom end rot/Screenshot 2021-02-11 235651.png  \n",
            " extracting: data_tom/train/Bloosom end rot/Screenshot 2021-02-11 235731.png  \n",
            " extracting: data_tom/train/Bloosom end rot/Screenshot 2021-02-11 235830.png  \n",
            " extracting: data_tom/train/Bloosom end rot/Screenshot 2021-02-11 235851.png  \n",
            " extracting: data_tom/train/Bloosom end rot/Screenshot 2021-02-11 235914.png  \n",
            " extracting: data_tom/train/Bloosom end rot/Screenshot 2021-02-11 235935.png  \n",
            " extracting: data_tom/train/Bloosom end rot/Screenshot 2021-02-11 235956.png  \n",
            " extracting: data_tom/train/Bloosom end rot/Screenshot 2021-02-12 000011.png  \n",
            " extracting: data_tom/train/Bloosom end rot/Screenshot 2021-02-12 000028.png  \n",
            " extracting: data_tom/train/Bloosom end rot/Screenshot 2021-02-12 000045.png  \n",
            " extracting: data_tom/train/Bloosom end rot/Screenshot 2021-02-12 000107.png  \n",
            " extracting: data_tom/train/Bloosom end rot/Screenshot 2021-02-12 000127.png  \n",
            " extracting: data_tom/train/Bloosom end rot/Screenshot 2021-02-12 000147.png  \n",
            " extracting: data_tom/train/Bloosom end rot/Screenshot 2021-02-12 000208.png  \n",
            " extracting: data_tom/train/Bloosom end rot/Screenshot 2021-02-12 000226.png  \n",
            " extracting: data_tom/train/Bloosom end rot/Screenshot 2021-02-12 000249.png  \n",
            " extracting: data_tom/train/Bloosom end rot/Screenshot 2021-02-12 000309.png  \n",
            " extracting: data_tom/train/Bloosom end rot/Screenshot 2021-02-12 000336.png  \n",
            " extracting: data_tom/train/Bloosom end rot/Screenshot 2021-02-12 000357.png  \n",
            " extracting: data_tom/train/Bloosom end rot/Screenshot 2021-02-12 000417.png  \n",
            " extracting: data_tom/train/Bloosom end rot/Screenshot 2021-02-12 000436.png  \n",
            " extracting: data_tom/train/Bloosom end rot/Screenshot 2021-02-12 000454.png  \n",
            "  inflating: data_tom/train/Bloosom end rot/Screenshot 2021-02-12 000513.png  \n",
            " extracting: data_tom/train/Bloosom end rot/Screenshot 2021-02-12 000541.png  \n",
            " extracting: data_tom/train/Bloosom end rot/Screenshot 2021-02-12 000600.png  \n",
            " extracting: data_tom/train/Bloosom end rot/Screenshot 2021-02-12 000626.png  \n",
            " extracting: data_tom/train/Bloosom end rot/Screenshot 2021-02-12 000647.png  \n",
            " extracting: data_tom/train/Bloosom end rot/Screenshot 2021-02-12 000731.png  \n",
            " extracting: data_tom/train/Bloosom end rot/Screenshot 2021-02-12 000754.png  \n",
            " extracting: data_tom/train/Bloosom end rot/Screenshot 2021-02-12 000833.png  \n",
            " extracting: data_tom/train/Bloosom end rot/Screenshot 2021-02-12 000853.png  \n",
            " extracting: data_tom/train/Bloosom end rot/Screenshot 2021-02-12 000914.png  \n",
            " extracting: data_tom/train/Bloosom end rot/Screenshot 2021-02-12 000931.png  \n",
            " extracting: data_tom/train/Bloosom end rot/Screenshot 2021-02-12 000950.png  \n",
            " extracting: data_tom/train/Bloosom end rot/Screenshot 2021-02-12 001014.png  \n",
            " extracting: data_tom/train/Bloosom end rot/Screenshot 2021-02-12 001040.png  \n",
            " extracting: data_tom/train/Bloosom end rot/Screenshot 2021-02-12 001113.png  \n",
            " extracting: data_tom/train/Bloosom end rot/Screenshot 2021-02-12 001142.png  \n",
            " extracting: data_tom/train/Bloosom end rot/Screenshot 2021-02-12 001207.png  \n",
            " extracting: data_tom/train/Bloosom end rot/Screenshot 2021-02-12 001228.png  \n",
            " extracting: data_tom/train/Bloosom end rot/Screenshot 2021-02-12 001246.png  \n",
            " extracting: data_tom/train/Bloosom end rot/Screenshot 2021-02-12 001305.png  \n",
            " extracting: data_tom/train/Bloosom end rot/Screenshot 2021-02-12 001324.png  \n",
            " extracting: data_tom/train/Bloosom end rot/Screenshot 2021-02-12 001342.png  \n",
            " extracting: data_tom/train/Bloosom end rot/Screenshot 2021-02-12 001401.png  \n",
            " extracting: data_tom/train/Bloosom end rot/Screenshot 2021-02-12 001423.png  \n",
            "  inflating: data_tom/train/Bloosom end rot/Screenshot 2021-02-12 001445.png  \n",
            " extracting: data_tom/train/Bloosom end rot/Screenshot 2021-02-12 001510.png  \n",
            " extracting: data_tom/train/Bloosom end rot/Screenshot 2021-02-12 001529.png  \n",
            " extracting: data_tom/train/Bloosom end rot/Screenshot 2021-02-12 001631.png  \n",
            " extracting: data_tom/train/Bloosom end rot/Screenshot 2021-02-12 001653.png  \n",
            " extracting: data_tom/train/Bloosom end rot/Screenshot 2021-02-12 001725.png  \n",
            " extracting: data_tom/train/Bloosom end rot/Screenshot 2021-02-12 001812.png  \n",
            " extracting: data_tom/train/Bloosom end rot/Screenshot 2021-02-12 001833.png  \n",
            " extracting: data_tom/train/Bloosom end rot/Screenshot 2021-02-12 001858.png  \n",
            " extracting: data_tom/train/Bloosom end rot/Screenshot 2021-02-12 001924.png  \n",
            " extracting: data_tom/train/Bloosom end rot/Screenshot 2021-02-12 001946.png  \n",
            "  inflating: data_tom/train/Bloosom end rot/Screenshot 2021-02-12 002009.png  \n",
            " extracting: data_tom/train/Bloosom end rot/Screenshot 2021-02-12 002027.png  \n",
            " extracting: data_tom/train/Bloosom end rot/Screenshot 2021-02-12 002056.png  \n",
            "   creating: data_tom/train/Normal tomato/\n",
            "  inflating: data_tom/train/Normal tomato/download (40).jpg  \n",
            "  inflating: data_tom/train/Normal tomato/download (41).jpg  \n",
            "  inflating: data_tom/train/Normal tomato/download (44).jpg  \n",
            "  inflating: data_tom/train/Normal tomato/download (45).jpg  \n",
            "  inflating: data_tom/train/Normal tomato/download (46).jpg  \n",
            "  inflating: data_tom/train/Normal tomato/images (35).jpg  \n",
            "  inflating: data_tom/train/Normal tomato/images (36).jpg  \n",
            "  inflating: data_tom/train/Normal tomato/images (37).jpg  \n",
            "  inflating: data_tom/train/Normal tomato/images (38).jpg  \n",
            "  inflating: data_tom/train/Normal tomato/images (39).jpg  \n",
            "  inflating: data_tom/train/Normal tomato/images (40).jpg  \n",
            "  inflating: data_tom/train/Normal tomato/images (41).jpg  \n",
            "  inflating: data_tom/train/Normal tomato/images (43).jpg  \n",
            "  inflating: data_tom/train/Normal tomato/images (44).jpg  \n",
            "  inflating: data_tom/train/Normal tomato/images (45).jpg  \n",
            "  inflating: data_tom/train/Normal tomato/images (46).jpg  \n",
            "  inflating: data_tom/train/Normal tomato/images (47).jpg  \n",
            "  inflating: data_tom/train/Normal tomato/images (48).jpg  \n",
            "  inflating: data_tom/train/Normal tomato/images (49).jpg  \n",
            "  inflating: data_tom/train/Normal tomato/images (50).jpg  \n",
            "  inflating: data_tom/train/Normal tomato/images (51).jpg  \n",
            "  inflating: data_tom/train/Normal tomato/images (52).jpg  \n",
            "  inflating: data_tom/train/Normal tomato/images (53).jpg  \n",
            "  inflating: data_tom/train/Normal tomato/images (54).jpg  \n",
            "  inflating: data_tom/train/Normal tomato/images (55).jpg  \n",
            "  inflating: data_tom/train/Normal tomato/images (56).jpg  \n",
            "  inflating: data_tom/train/Normal tomato/images (57).jpg  \n",
            "  inflating: data_tom/train/Normal tomato/images (58).jpg  \n",
            " extracting: data_tom/train/Normal tomato/images (59).jpg  \n",
            "  inflating: data_tom/train/Normal tomato/images (60).jpg  \n",
            "  inflating: data_tom/train/Normal tomato/images(22).jpg  \n",
            "  inflating: data_tom/train/Normal tomato/images(23).jpg  \n",
            "  inflating: data_tom/train/Normal tomato/images(26).jpg  \n",
            "  inflating: data_tom/train/Normal tomato/images(27).jpg  \n",
            "  inflating: data_tom/train/Normal tomato/images(28).jpg  \n",
            "  inflating: data_tom/train/Normal tomato/images(29).jpg  \n",
            " extracting: data_tom/train/Normal tomato/Screenshot 2021-02-12 011413.png  \n",
            " extracting: data_tom/train/Normal tomato/Screenshot 2021-02-12 011530.png  \n",
            " extracting: data_tom/train/Normal tomato/Screenshot 2021-02-12 011549.png  \n",
            " extracting: data_tom/train/Normal tomato/Screenshot 2021-02-12 011606.png  \n",
            " extracting: data_tom/train/Normal tomato/Screenshot 2021-02-12 011632.png  \n",
            " extracting: data_tom/train/Normal tomato/Screenshot 2021-02-12 011654.png  \n",
            " extracting: data_tom/train/Normal tomato/Screenshot 2021-02-12 011716.png  \n",
            " extracting: data_tom/train/Normal tomato/Screenshot 2021-02-12 011734.png  \n",
            " extracting: data_tom/train/Normal tomato/Screenshot 2021-02-12 011754.png  \n",
            " extracting: data_tom/train/Normal tomato/Screenshot 2021-02-12 011823.png  \n",
            " extracting: data_tom/train/Normal tomato/Screenshot 2021-02-12 011847.png  \n",
            " extracting: data_tom/train/Normal tomato/Screenshot 2021-02-12 011911.png  \n",
            " extracting: data_tom/train/Normal tomato/Screenshot 2021-02-12 011939.png  \n",
            " extracting: data_tom/train/Normal tomato/Screenshot 2021-02-12 011957.png  \n",
            " extracting: data_tom/train/Normal tomato/Screenshot 2021-02-12 012021.png  \n",
            " extracting: data_tom/train/Normal tomato/Screenshot 2021-02-12 012046.png  \n",
            " extracting: data_tom/train/Normal tomato/Screenshot 2021-02-12 012105.png  \n",
            " extracting: data_tom/train/Normal tomato/Screenshot 2021-02-12 012125.png  \n",
            " extracting: data_tom/train/Normal tomato/Screenshot 2021-02-12 012151.png  \n",
            " extracting: data_tom/train/Normal tomato/Screenshot 2021-02-12 012212.png  \n",
            " extracting: data_tom/train/Normal tomato/Screenshot 2021-02-12 012235.png  \n",
            " extracting: data_tom/train/Normal tomato/Screenshot 2021-02-12 012255.png  \n",
            "  inflating: data_tom/train/Normal tomato/Screenshot 2021-02-12 012317.png  \n",
            " extracting: data_tom/train/Normal tomato/Screenshot 2021-02-12 012336.png  \n",
            " extracting: data_tom/train/Normal tomato/Screenshot 2021-02-12 012357.png  \n",
            " extracting: data_tom/train/Normal tomato/Screenshot 2021-02-12 012433.png  \n",
            " extracting: data_tom/train/Normal tomato/Screenshot 2021-02-12 012456.png  \n",
            "  inflating: data_tom/train/Normal tomato/Screenshot 2021-02-12 012516.png  \n",
            " extracting: data_tom/train/Normal tomato/Screenshot 2021-02-12 012538.png  \n",
            " extracting: data_tom/train/Normal tomato/Screenshot 2021-02-12 012605.png  \n",
            " extracting: data_tom/train/Normal tomato/Screenshot 2021-02-12 012632.png  \n",
            " extracting: data_tom/train/Normal tomato/Screenshot 2021-02-12 012653.png  \n",
            "  inflating: data_tom/train/Normal tomato/Screenshot 2021-02-12 012715.png  \n",
            "  inflating: data_tom/train/Normal tomato/Screenshot 2021-02-12 012738.png  \n",
            " extracting: data_tom/train/Normal tomato/Screenshot 2021-02-12 012820.png  \n",
            " extracting: data_tom/train/Normal tomato/Screenshot 2021-02-12 012844.png  \n",
            " extracting: data_tom/train/Normal tomato/Screenshot 2021-02-12 012908.png  \n",
            " extracting: data_tom/train/Normal tomato/Screenshot 2021-02-12 013117.png  \n",
            " extracting: data_tom/train/Normal tomato/Screenshot 2021-02-12 013135.png  \n",
            "   creating: data_tom/train/Sunscald/\n",
            "  inflating: data_tom/train/Sunscald/download (16).jpg  \n",
            "  inflating: data_tom/train/Sunscald/download (17).jpg  \n",
            "  inflating: data_tom/train/Sunscald/download (18).jpg  \n",
            "  inflating: data_tom/train/Sunscald/download (19).jpg  \n",
            "  inflating: data_tom/train/Sunscald/download (20).jpg  \n",
            "  inflating: data_tom/train/Sunscald/download (21).jpg  \n",
            "  inflating: data_tom/train/Sunscald/download (22).jpg  \n",
            "  inflating: data_tom/train/Sunscald/download (23).jpg  \n",
            "  inflating: data_tom/train/Sunscald/download (24).jpg  \n",
            "  inflating: data_tom/train/Sunscald/download (25).jpg  \n",
            "  inflating: data_tom/train/Sunscald/download (26).jpg  \n",
            "  inflating: data_tom/train/Sunscald/download (27).jpg  \n",
            "  inflating: data_tom/train/Sunscald/download (28).jpg  \n",
            "  inflating: data_tom/train/Sunscald/download (29).jpg  \n",
            "  inflating: data_tom/train/Sunscald/download (30).jpg  \n",
            "  inflating: data_tom/train/Sunscald/download (31).jpg  \n",
            "  inflating: data_tom/train/Sunscald/download (42).jpg  \n",
            "  inflating: data_tom/train/Sunscald/download (43).jpg  \n",
            "  inflating: data_tom/train/Sunscald/images (17).jpg  \n",
            "  inflating: data_tom/train/Sunscald/images (18).jpg  \n",
            "  inflating: data_tom/train/Sunscald/images (19).jpg  \n",
            "  inflating: data_tom/train/Sunscald/images (20).jpg  \n",
            "  inflating: data_tom/train/Sunscald/images (21).jpg  \n",
            "  inflating: data_tom/train/Sunscald/images (22).jpg  \n",
            "  inflating: data_tom/train/Sunscald/images (23).jpg  \n",
            "  inflating: data_tom/train/Sunscald/images (24).jpg  \n",
            "  inflating: data_tom/train/Sunscald/images (25).jpg  \n",
            "  inflating: data_tom/train/Sunscald/images (26).jpg  \n",
            "  inflating: data_tom/train/Sunscald/images (27).jpg  \n",
            "  inflating: data_tom/train/Sunscald/images (28).jpg  \n",
            "  inflating: data_tom/train/Sunscald/images (29).jpg  \n",
            "  inflating: data_tom/train/Sunscald/images (30).jpg  \n",
            "  inflating: data_tom/train/Sunscald/images - 2021-02-11T101719.050.jpg  \n",
            "  inflating: data_tom/train/Sunscald/images - 2021-02-11T101728.460.jpg  \n",
            "  inflating: data_tom/train/Sunscald/images - 2021-02-11T101736.871.jpg  \n",
            "  inflating: data_tom/train/Sunscald/images - 2021-02-11T101747.715.jpg  \n",
            "  inflating: data_tom/train/Sunscald/images - 2021-02-11T101806.368.jpg  \n",
            " extracting: data_tom/train/Sunscald/images - 2021-02-11T101814.580.jpg  \n",
            "  inflating: data_tom/train/Sunscald/images - 2021-02-11T101820.101.jpg  \n",
            "  inflating: data_tom/train/Sunscald/images - 2021-02-11T101838.263.jpg  \n",
            "  inflating: data_tom/train/Sunscald/images - 2021-02-11T101904.548.jpg  \n",
            "  inflating: data_tom/train/Sunscald/images - 2021-02-11T101909.324.jpg  \n",
            "  inflating: data_tom/train/Sunscald/images - 2021-02-11T101919.146.jpg  \n",
            "  inflating: data_tom/train/Sunscald/images - 2021-02-11T101931.069.jpg  \n",
            "  inflating: data_tom/train/Sunscald/images - 2021-02-11T101936.498.jpg  \n",
            "  inflating: data_tom/train/Sunscald/images - 2021-02-11T101943.986.jpg  \n",
            "  inflating: data_tom/train/Sunscald/images - 2021-02-11T102007.310.jpg  \n",
            "  inflating: data_tom/train/Sunscald/images - 2021-02-11T102047.701.jpg  \n",
            "  inflating: data_tom/train/Sunscald/images - 2021-02-11T102133.798.jpg  \n",
            "  inflating: data_tom/train/Sunscald/images - 2021-02-11T102156.472.jpg  \n",
            "  inflating: data_tom/train/Sunscald/images - 2021-02-11T102210.040.jpg  \n",
            "  inflating: data_tom/train/Sunscald/images - 2021-02-11T102234.260.jpg  \n",
            "  inflating: data_tom/train/Sunscald/images - 2021-02-11T102244.210.jpg  \n",
            "  inflating: data_tom/train/Sunscald/images - 2021-02-11T102251.189.jpg  \n",
            "  inflating: data_tom/train/Sunscald/images - 2021-02-11T102257.743.jpg  \n",
            "  inflating: data_tom/train/Sunscald/images - 2021-02-11T102336.135.jpg  \n",
            "  inflating: data_tom/train/Sunscald/images - 2021-02-11T103113.799.jpg  \n",
            "  inflating: data_tom/train/Sunscald/images - 2021-02-11T103123.918.jpg  \n",
            "  inflating: data_tom/train/Sunscald/images(16).jpg  \n",
            "  inflating: data_tom/train/Sunscald/images(17).jpg  \n",
            " extracting: data_tom/train/Sunscald/images(18).jpg  \n",
            "  inflating: data_tom/train/Sunscald/images(19).jpg  \n",
            " extracting: data_tom/train/Sunscald/images(20).jpg  \n",
            "  inflating: data_tom/train/Sunscald/images(21).jpg  \n",
            " extracting: data_tom/train/Sunscald/Screenshot 2021-02-11 210416.png  \n",
            " extracting: data_tom/train/Sunscald/Screenshot 2021-02-11 210501.png  \n",
            " extracting: data_tom/train/Sunscald/Screenshot 2021-02-11 210522.png  \n",
            " extracting: data_tom/train/Sunscald/Screenshot 2021-02-11 210542.png  \n",
            " extracting: data_tom/train/Sunscald/Screenshot 2021-02-11 210604.png  \n",
            " extracting: data_tom/train/Sunscald/Screenshot 2021-02-11 210630.png  \n",
            " extracting: data_tom/train/Sunscald/Screenshot 2021-02-11 210659.png  \n",
            " extracting: data_tom/train/Sunscald/Screenshot 2021-02-11 210723.png  \n",
            "   creating: data_tom/train/Tomato cracking/\n",
            "  inflating: data_tom/train/Tomato cracking/download (11).jpg  \n",
            "  inflating: data_tom/train/Tomato cracking/download (12).jpg  \n",
            "  inflating: data_tom/train/Tomato cracking/download (13).jpg  \n",
            "  inflating: data_tom/train/Tomato cracking/download (14).jpg  \n",
            "  inflating: data_tom/train/Tomato cracking/download (15).jpg  \n",
            "  inflating: data_tom/train/Tomato cracking/download (5).jpg  \n",
            "  inflating: data_tom/train/Tomato cracking/download (7).jpg  \n",
            "  inflating: data_tom/train/Tomato cracking/download (9).jpg  \n",
            " extracting: data_tom/train/Tomato cracking/image.png  \n",
            "  inflating: data_tom/train/Tomato cracking/images (1).jpg  \n",
            "  inflating: data_tom/train/Tomato cracking/images (10).jpg  \n",
            "  inflating: data_tom/train/Tomato cracking/images (11).jpg  \n",
            "  inflating: data_tom/train/Tomato cracking/images (12).jpg  \n",
            "  inflating: data_tom/train/Tomato cracking/images (13).jpg  \n",
            "  inflating: data_tom/train/Tomato cracking/images (14).jpg  \n",
            "  inflating: data_tom/train/Tomato cracking/images (15).jpg  \n",
            "  inflating: data_tom/train/Tomato cracking/images (16).jpg  \n",
            "  inflating: data_tom/train/Tomato cracking/images (2).jpg  \n",
            "  inflating: data_tom/train/Tomato cracking/images (4).jpg  \n",
            "  inflating: data_tom/train/Tomato cracking/images (6).jpg  \n",
            "  inflating: data_tom/train/Tomato cracking/images (7).jpg  \n",
            "  inflating: data_tom/train/Tomato cracking/images (8).jpg  \n",
            "  inflating: data_tom/train/Tomato cracking/images (9).jpg  \n",
            "  inflating: data_tom/train/Tomato cracking/images(10).jpg  \n",
            "  inflating: data_tom/train/Tomato cracking/images(11).jpg  \n",
            " extracting: data_tom/train/Tomato cracking/images(12).jpg  \n",
            "  inflating: data_tom/train/Tomato cracking/images(13).jpg  \n",
            "  inflating: data_tom/train/Tomato cracking/images(14).jpg  \n",
            "  inflating: data_tom/train/Tomato cracking/images(8).jpg  \n",
            "  inflating: data_tom/train/Tomato cracking/images(9).jpg  \n",
            " extracting: data_tom/train/Tomato cracking/Screenshot 2021-02-11 184654.png  \n",
            " extracting: data_tom/train/Tomato cracking/Screenshot 2021-02-11 184741.png  \n",
            " extracting: data_tom/train/Tomato cracking/Screenshot 2021-02-11 184817.png  \n",
            " extracting: data_tom/train/Tomato cracking/Screenshot 2021-02-11 184845.png  \n",
            " extracting: data_tom/train/Tomato cracking/Screenshot 2021-02-11 184917.png  \n",
            " extracting: data_tom/train/Tomato cracking/Screenshot 2021-02-11 184946.png  \n",
            " extracting: data_tom/train/Tomato cracking/Screenshot 2021-02-11 185016.png  \n",
            " extracting: data_tom/train/Tomato cracking/Screenshot 2021-02-11 185049.png  \n",
            " extracting: data_tom/train/Tomato cracking/Screenshot 2021-02-11 185119.png  \n",
            " extracting: data_tom/train/Tomato cracking/Screenshot 2021-02-11 185153.png  \n",
            " extracting: data_tom/train/Tomato cracking/Screenshot 2021-02-11 185227.png  \n",
            " extracting: data_tom/train/Tomato cracking/Screenshot 2021-02-11 185305.png  \n",
            " extracting: data_tom/train/Tomato cracking/Screenshot 2021-02-11 185336.png  \n",
            " extracting: data_tom/train/Tomato cracking/Screenshot 2021-02-11 185403.png  \n",
            " extracting: data_tom/train/Tomato cracking/Screenshot 2021-02-11 185428.png  \n",
            " extracting: data_tom/train/Tomato cracking/Screenshot 2021-02-11 185454.png  \n",
            " extracting: data_tom/train/Tomato cracking/Screenshot 2021-02-11 185518.png  \n",
            " extracting: data_tom/train/Tomato cracking/Screenshot 2021-02-11 185545.png  \n",
            " extracting: data_tom/train/Tomato cracking/Screenshot 2021-02-11 185624.png  \n",
            " extracting: data_tom/train/Tomato cracking/Screenshot 2021-02-11 185650.png  \n",
            " extracting: data_tom/train/Tomato cracking/Screenshot 2021-02-11 185732.png  \n",
            "  inflating: data_tom/train/Tomato cracking/Screenshot 2021-02-11 185755.png  \n",
            "  inflating: data_tom/train/Tomato cracking/Screenshot 2021-02-11 185817.png  \n",
            " extracting: data_tom/train/Tomato cracking/Screenshot 2021-02-11 185851.png  \n",
            " extracting: data_tom/train/Tomato cracking/Screenshot 2021-02-11 185919.png  \n",
            " extracting: data_tom/train/Tomato cracking/Screenshot 2021-02-11 185948.png  \n",
            " extracting: data_tom/train/Tomato cracking/Screenshot 2021-02-11 190040.png  \n",
            " extracting: data_tom/train/Tomato cracking/Screenshot 2021-02-11 190101.png  \n",
            " extracting: data_tom/train/Tomato cracking/Screenshot 2021-02-11 190135.png  \n",
            " extracting: data_tom/train/Tomato cracking/Screenshot 2021-02-11 190704.png  \n",
            " extracting: data_tom/train/Tomato cracking/Screenshot 2021-02-11 190739.png  \n",
            " extracting: data_tom/train/Tomato cracking/Screenshot 2021-02-11 190804.png  \n",
            " extracting: data_tom/train/Tomato cracking/Screenshot 2021-02-11 190830.png  \n",
            " extracting: data_tom/train/Tomato cracking/Screenshot 2021-02-11 190905.png  \n",
            " extracting: data_tom/train/Tomato cracking/Screenshot 2021-02-11 190927.png  \n",
            " extracting: data_tom/train/Tomato cracking/Screenshot 2021-02-11 190947.png  \n",
            " extracting: data_tom/train/Tomato cracking/Screenshot 2021-02-11 191010.png  \n",
            " extracting: data_tom/train/Tomato cracking/Screenshot 2021-02-11 191034.png  \n",
            " extracting: data_tom/train/Tomato cracking/Screenshot 2021-02-11 191053.png  \n",
            " extracting: data_tom/train/Tomato cracking/Screenshot 2021-02-11 191114.png  \n",
            " extracting: data_tom/train/Tomato cracking/Screenshot 2021-02-11 191132.png  \n",
            " extracting: data_tom/train/Tomato cracking/Screenshot 2021-02-11 191205.png  \n",
            " extracting: data_tom/train/Tomato cracking/Screenshot 2021-02-11 191226.png  \n",
            "   creating: data_tom/valid/\n",
            "   creating: data_tom/valid/Bloosom end rot/\n",
            "  inflating: data_tom/valid/Bloosom end rot/Capture (1).JPG  \n",
            "  inflating: data_tom/valid/Bloosom end rot/Capture1.JPG  \n",
            "  inflating: data_tom/valid/Bloosom end rot/Capture2.JPG  \n",
            "  inflating: data_tom/valid/Bloosom end rot/Capture3.JPG  \n",
            "  inflating: data_tom/valid/Bloosom end rot/Capture5.JPG  \n",
            "  inflating: data_tom/valid/Bloosom end rot/image.JPG  \n",
            "  inflating: data_tom/valid/Bloosom end rot/images (64).jpg  \n",
            "  inflating: data_tom/valid/Bloosom end rot/images (65).jpg  \n",
            "  inflating: data_tom/valid/Bloosom end rot/images (66).jpg  \n",
            "  inflating: data_tom/valid/Bloosom end rot/images (68).jpg  \n",
            "  inflating: data_tom/valid/Bloosom end rot/images (69).jpg  \n",
            "  inflating: data_tom/valid/Bloosom end rot/images (70).jpg  \n",
            "  inflating: data_tom/valid/Bloosom end rot/images (71).jpg  \n",
            "  inflating: data_tom/valid/Bloosom end rot/images (72).jpg  \n",
            "  inflating: data_tom/valid/Bloosom end rot/images (73).jpg  \n",
            "  inflating: data_tom/valid/Bloosom end rot/images (74).jpg  \n",
            "  inflating: data_tom/valid/Bloosom end rot/images (75).jpg  \n",
            "  inflating: data_tom/valid/Bloosom end rot/images (76).jpg  \n",
            "  inflating: data_tom/valid/Bloosom end rot/images (77).jpg  \n",
            "  inflating: data_tom/valid/Bloosom end rot/images (78).jpg  \n",
            "  inflating: data_tom/valid/Bloosom end rot/images (79).jpg  \n",
            "  inflating: data_tom/valid/Bloosom end rot/images (80).jpg  \n",
            "  inflating: data_tom/valid/Bloosom end rot/images (81).jpg  \n",
            "  inflating: data_tom/valid/Bloosom end rot/images (82).jpg  \n",
            "  inflating: data_tom/valid/Bloosom end rot/images (83).jpg  \n",
            "  inflating: data_tom/valid/Bloosom end rot/images (85).jpg  \n",
            "  inflating: data_tom/valid/Bloosom end rot/images (87).jpg  \n",
            "  inflating: data_tom/valid/Bloosom end rot/images (88).jpg  \n",
            "  inflating: data_tom/valid/Bloosom end rot/images (89).jpg  \n",
            "  inflating: data_tom/valid/Bloosom end rot/images (90).jpg  \n",
            "  inflating: data_tom/valid/Bloosom end rot/images (91).jpg  \n",
            "  inflating: data_tom/valid/Bloosom end rot/images (92).jpg  \n",
            "  inflating: data_tom/valid/Bloosom end rot/images (93).jpg  \n",
            "  inflating: data_tom/valid/Bloosom end rot/images (95).jpg  \n",
            "  inflating: data_tom/valid/Bloosom end rot/images (96) - Copy.jpg  \n",
            "  inflating: data_tom/valid/Bloosom end rot/images (97) - Copy.jpg  \n",
            "  inflating: data_tom/valid/Bloosom end rot/images (98) - Copy.jpg  \n",
            "  inflating: data_tom/valid/Bloosom end rot/images (99) - Copy.jpg  \n",
            " extracting: data_tom/valid/Bloosom end rot/images(3).jpg  \n",
            "  inflating: data_tom/valid/Bloosom end rot/images(4).jpg  \n",
            "  inflating: data_tom/valid/Bloosom end rot/images(5).jpg  \n",
            "  inflating: data_tom/valid/Bloosom end rot/images(6).jpg  \n",
            "  inflating: data_tom/valid/Bloosom end rot/images(7).jpg  \n",
            "  inflating: data_tom/valid/Bloosom end rot/IMG-20210209-WA0167.jpg  \n",
            "  inflating: data_tom/valid/Bloosom end rot/IMG-20210209-WA0168.jpg  \n",
            " extracting: data_tom/valid/Bloosom end rot/IMG-20210209-WA0170.jpg  \n",
            "  inflating: data_tom/valid/Bloosom end rot/IMG-20210209-WA0171.jpg  \n",
            "  inflating: data_tom/valid/Bloosom end rot/IMG-20210209-WA0172.jpg  \n",
            "  inflating: data_tom/valid/Bloosom end rot/IMG-20210209-WA0174.jpg  \n",
            "  inflating: data_tom/valid/Bloosom end rot/IMG-20210209-WA0175.jpg  \n",
            "   creating: data_tom/valid/Normal tomato/\n",
            "  inflating: data_tom/valid/Normal tomato/download (47).jpg  \n",
            "  inflating: data_tom/valid/Normal tomato/download (48).jpg  \n",
            "  inflating: data_tom/valid/Normal tomato/images (31).jpg  \n",
            "  inflating: data_tom/valid/Normal tomato/images (32).jpg  \n",
            "  inflating: data_tom/valid/Normal tomato/images (33).jpg  \n",
            "  inflating: data_tom/valid/Normal tomato/images (34).jpg  \n",
            "  inflating: data_tom/valid/Normal tomato/images - 2021-02-11T103607.795.jpg  \n",
            "  inflating: data_tom/valid/Normal tomato/images - 2021-02-11T103630.029.jpg  \n",
            "  inflating: data_tom/valid/Normal tomato/images - 2021-02-11T103655.996.jpg  \n",
            "  inflating: data_tom/valid/Normal tomato/images - 2021-02-11T103703.593.jpg  \n",
            "  inflating: data_tom/valid/Normal tomato/images - 2021-02-11T103711.219.jpg  \n",
            "  inflating: data_tom/valid/Normal tomato/images - 2021-02-11T103729.353.jpg  \n",
            "  inflating: data_tom/valid/Normal tomato/images - 2021-02-11T103745.083.jpg  \n",
            "  inflating: data_tom/valid/Normal tomato/images - 2021-02-11T103804.724.jpg  \n",
            " extracting: data_tom/valid/Normal tomato/images - 2021-02-11T103811.180.jpg  \n",
            "  inflating: data_tom/valid/Normal tomato/images - 2021-02-11T103817.120.jpg  \n",
            " extracting: data_tom/valid/Normal tomato/images - 2021-02-11T103838.570.jpg  \n",
            "  inflating: data_tom/valid/Normal tomato/images - 2021-02-11T103855.492.jpg  \n",
            "  inflating: data_tom/valid/Normal tomato/images - 2021-02-11T104144.186.jpg  \n",
            "  inflating: data_tom/valid/Normal tomato/images - 2021-02-11T104152.739.jpg  \n",
            "  inflating: data_tom/valid/Normal tomato/images - 2021-02-11T104215.676.jpg  \n",
            "  inflating: data_tom/valid/Normal tomato/images - 2021-02-11T104227.604.jpg  \n",
            "  inflating: data_tom/valid/Normal tomato/images - 2021-02-11T104247.335.jpg  \n",
            "  inflating: data_tom/valid/Normal tomato/images - 2021-02-11T104311.468.jpg  \n",
            "  inflating: data_tom/valid/Normal tomato/images - 2021-02-11T104328.746.jpg  \n",
            "  inflating: data_tom/valid/Normal tomato/images - 2021-02-11T104338.689.jpg  \n",
            "  inflating: data_tom/valid/Normal tomato/images - 2021-02-11T104344.675.jpg  \n",
            "  inflating: data_tom/valid/Normal tomato/images - 2021-02-11T104403.479.jpg  \n",
            "  inflating: data_tom/valid/Normal tomato/images - 2021-02-11T104415.044.jpg  \n",
            "  inflating: data_tom/valid/Normal tomato/images - 2021-02-11T104429.749.jpg  \n",
            "  inflating: data_tom/valid/Normal tomato/images - 2021-02-11T104451.293.jpg  \n",
            "  inflating: data_tom/valid/Normal tomato/images - 2021-02-11T104501.331.jpg  \n",
            "  inflating: data_tom/valid/Normal tomato/images - 2021-02-11T104525.770.jpg  \n",
            "  inflating: data_tom/valid/Normal tomato/images - 2021-02-11T104534.000.jpg  \n",
            "  inflating: data_tom/valid/Normal tomato/images - 2021-02-11T104551.139.jpg  \n",
            "  inflating: data_tom/valid/Normal tomato/images - 2021-02-11T104604.932.jpg  \n",
            "  inflating: data_tom/valid/Normal tomato/images - 2021-02-11T104654.651.jpg  \n",
            "  inflating: data_tom/valid/Normal tomato/images - 2021-02-11T104706.160.jpg  \n",
            "  inflating: data_tom/valid/Normal tomato/images - 2021-02-11T104712.828.jpg  \n",
            "  inflating: data_tom/valid/Normal tomato/images - 2021-02-11T105034.671.jpg  \n",
            "  inflating: data_tom/valid/Normal tomato/images - 2021-02-11T105158.195.jpg  \n",
            "  inflating: data_tom/valid/Normal tomato/images - 2021-02-11T110753.259.jpg  \n",
            "  inflating: data_tom/valid/Normal tomato/images - 2021-02-11T110816.280.jpg  \n",
            "  inflating: data_tom/valid/Normal tomato/images - 2021-02-11T110851.972.jpg  \n",
            "  inflating: data_tom/valid/Normal tomato/images - 2021-02-11T110859.871.jpg  \n",
            "  inflating: data_tom/valid/Normal tomato/images - 2021-02-11T110920.363.jpg  \n",
            "  inflating: data_tom/valid/Normal tomato/images - 2021-02-11T110948.348.jpg  \n",
            "  inflating: data_tom/valid/Normal tomato/images - 2021-02-11T111028.231.jpg  \n",
            "  inflating: data_tom/valid/Normal tomato/images - 2021-02-11T111041.412.jpg  \n",
            "  inflating: data_tom/valid/Normal tomato/images - 2021-02-11T111246.414.jpg  \n",
            "   creating: data_tom/valid/Sunscald/\n",
            " extracting: data_tom/valid/Sunscald/Screenshot 2021-02-11 210744.png  \n",
            " extracting: data_tom/valid/Sunscald/Screenshot 2021-02-11 210808.png  \n",
            " extracting: data_tom/valid/Sunscald/Screenshot 2021-02-11 210838.png  \n",
            " extracting: data_tom/valid/Sunscald/Screenshot 2021-02-11 210903.png  \n",
            " extracting: data_tom/valid/Sunscald/Screenshot 2021-02-11 210932.png  \n",
            " extracting: data_tom/valid/Sunscald/Screenshot 2021-02-11 210954.png  \n",
            " extracting: data_tom/valid/Sunscald/Screenshot 2021-02-11 211017.png  \n",
            " extracting: data_tom/valid/Sunscald/Screenshot 2021-02-11 211038.png  \n",
            " extracting: data_tom/valid/Sunscald/Screenshot 2021-02-11 211100.png  \n",
            " extracting: data_tom/valid/Sunscald/Screenshot 2021-02-11 211127.png  \n",
            " extracting: data_tom/valid/Sunscald/Screenshot 2021-02-11 211149.png  \n",
            " extracting: data_tom/valid/Sunscald/Screenshot 2021-02-11 211214.png  \n",
            " extracting: data_tom/valid/Sunscald/Screenshot 2021-02-11 211241.png  \n",
            " extracting: data_tom/valid/Sunscald/Screenshot 2021-02-11 211302.png  \n",
            " extracting: data_tom/valid/Sunscald/Screenshot 2021-02-11 211325.png  \n",
            " extracting: data_tom/valid/Sunscald/Screenshot 2021-02-11 211356.png  \n",
            " extracting: data_tom/valid/Sunscald/Screenshot 2021-02-11 211420.png  \n",
            " extracting: data_tom/valid/Sunscald/Screenshot 2021-02-11 211441.png  \n",
            " extracting: data_tom/valid/Sunscald/Screenshot 2021-02-11 211502.png  \n",
            " extracting: data_tom/valid/Sunscald/Screenshot 2021-02-11 211604.png  \n",
            " extracting: data_tom/valid/Sunscald/Screenshot 2021-02-11 211624.png  \n",
            "  inflating: data_tom/valid/Sunscald/Screenshot 2021-02-11 211652.png  \n",
            " extracting: data_tom/valid/Sunscald/Screenshot 2021-02-11 211717.png  \n",
            " extracting: data_tom/valid/Sunscald/Screenshot 2021-02-11 211741.png  \n",
            " extracting: data_tom/valid/Sunscald/Screenshot 2021-02-11 211848.png  \n",
            " extracting: data_tom/valid/Sunscald/Screenshot 2021-02-11 211915.png  \n",
            " extracting: data_tom/valid/Sunscald/Screenshot 2021-02-11 211936.png  \n",
            " extracting: data_tom/valid/Sunscald/Screenshot 2021-02-11 212006.png  \n",
            " extracting: data_tom/valid/Sunscald/Screenshot 2021-02-11 212033.png  \n",
            " extracting: data_tom/valid/Sunscald/Screenshot 2021-02-11 212057.png  \n",
            " extracting: data_tom/valid/Sunscald/Screenshot 2021-02-11 212118.png  \n",
            " extracting: data_tom/valid/Sunscald/Screenshot 2021-02-11 212143.png  \n",
            " extracting: data_tom/valid/Sunscald/Screenshot 2021-02-11 212212.png  \n",
            " extracting: data_tom/valid/Sunscald/Screenshot 2021-02-11 212236.png  \n",
            " extracting: data_tom/valid/Sunscald/Screenshot 2021-02-11 212421.png  \n",
            " extracting: data_tom/valid/Sunscald/Screenshot 2021-02-11 212450.png  \n",
            " extracting: data_tom/valid/Sunscald/Screenshot 2021-02-11 212513.png  \n",
            " extracting: data_tom/valid/Sunscald/Screenshot 2021-02-11 212533.png  \n",
            " extracting: data_tom/valid/Sunscald/Screenshot 2021-02-11 212555.png  \n",
            " extracting: data_tom/valid/Sunscald/Screenshot 2021-02-11 212649.png  \n",
            " extracting: data_tom/valid/Sunscald/Screenshot 2021-02-11 212731.png  \n",
            " extracting: data_tom/valid/Sunscald/Screenshot 2021-02-11 212808.png  \n",
            " extracting: data_tom/valid/Sunscald/Screenshot 2021-02-11 212832.png  \n",
            " extracting: data_tom/valid/Sunscald/Screenshot 2021-02-11 212943.png  \n",
            " extracting: data_tom/valid/Sunscald/Screenshot 2021-02-11 213022.png  \n",
            " extracting: data_tom/valid/Sunscald/Screenshot 2021-02-11 213044.png  \n",
            " extracting: data_tom/valid/Sunscald/Screenshot 2021-02-11 213106.png  \n",
            " extracting: data_tom/valid/Sunscald/Screenshot 2021-02-11 213214.png  \n",
            " extracting: data_tom/valid/Sunscald/Screenshot 2021-02-11 213238.png  \n",
            " extracting: data_tom/valid/Sunscald/Screenshot 2021-02-11 213311.png  \n",
            "   creating: data_tom/valid/Tomato cracking/\n",
            " extracting: data_tom/valid/Tomato cracking/Screenshot 2021-02-11 191248.png  \n",
            " extracting: data_tom/valid/Tomato cracking/Screenshot 2021-02-11 191310.png  \n",
            " extracting: data_tom/valid/Tomato cracking/Screenshot 2021-02-11 191333.png  \n",
            " extracting: data_tom/valid/Tomato cracking/Screenshot 2021-02-11 191352.png  \n",
            " extracting: data_tom/valid/Tomato cracking/Screenshot 2021-02-11 191413.png  \n",
            " extracting: data_tom/valid/Tomato cracking/Screenshot 2021-02-11 191432.png  \n",
            " extracting: data_tom/valid/Tomato cracking/Screenshot 2021-02-11 191510.png  \n",
            " extracting: data_tom/valid/Tomato cracking/Screenshot 2021-02-11 191530.png  \n",
            " extracting: data_tom/valid/Tomato cracking/Screenshot 2021-02-11 191551.png  \n",
            " extracting: data_tom/valid/Tomato cracking/Screenshot 2021-02-11 191612.png  \n",
            " extracting: data_tom/valid/Tomato cracking/Screenshot 2021-02-11 191640.png  \n",
            " extracting: data_tom/valid/Tomato cracking/Screenshot 2021-02-11 191659.png  \n",
            "  inflating: data_tom/valid/Tomato cracking/Screenshot 2021-02-11 191724.png  \n",
            " extracting: data_tom/valid/Tomato cracking/Screenshot 2021-02-11 191743.png  \n",
            "  inflating: data_tom/valid/Tomato cracking/Screenshot 2021-02-11 191820.png  \n",
            " extracting: data_tom/valid/Tomato cracking/Screenshot 2021-02-11 195117.png  \n",
            " extracting: data_tom/valid/Tomato cracking/Screenshot 2021-02-11 201640.png  \n",
            " extracting: data_tom/valid/Tomato cracking/Screenshot 2021-02-11 201717.png  \n",
            " extracting: data_tom/valid/Tomato cracking/Screenshot 2021-02-11 201742.png  \n",
            " extracting: data_tom/valid/Tomato cracking/Screenshot 2021-02-11 201804.png  \n",
            " extracting: data_tom/valid/Tomato cracking/Screenshot 2021-02-11 201825.png  \n",
            " extracting: data_tom/valid/Tomato cracking/Screenshot 2021-02-11 201847.png  \n",
            " extracting: data_tom/valid/Tomato cracking/Screenshot 2021-02-11 201914.png  \n",
            " extracting: data_tom/valid/Tomato cracking/Screenshot 2021-02-11 201943.png  \n",
            " extracting: data_tom/valid/Tomato cracking/Screenshot 2021-02-11 202005.png  \n",
            " extracting: data_tom/valid/Tomato cracking/Screenshot 2021-02-11 202024.png  \n",
            " extracting: data_tom/valid/Tomato cracking/Screenshot 2021-02-11 202046.png  \n",
            " extracting: data_tom/valid/Tomato cracking/Screenshot 2021-02-11 202107.png  \n",
            " extracting: data_tom/valid/Tomato cracking/Screenshot 2021-02-11 202128.png  \n",
            " extracting: data_tom/valid/Tomato cracking/Screenshot 2021-02-11 202146.png  \n",
            " extracting: data_tom/valid/Tomato cracking/Screenshot 2021-02-11 202207.png  \n",
            " extracting: data_tom/valid/Tomato cracking/Screenshot 2021-02-11 202236.png  \n",
            " extracting: data_tom/valid/Tomato cracking/Screenshot 2021-02-11 202254.png  \n",
            " extracting: data_tom/valid/Tomato cracking/Screenshot 2021-02-11 202319.png  \n",
            " extracting: data_tom/valid/Tomato cracking/Screenshot 2021-02-11 202339.png  \n",
            " extracting: data_tom/valid/Tomato cracking/Screenshot 2021-02-11 202359.png  \n",
            " extracting: data_tom/valid/Tomato cracking/Screenshot 2021-02-11 202420.png  \n",
            " extracting: data_tom/valid/Tomato cracking/Screenshot 2021-02-11 202444.png  \n",
            " extracting: data_tom/valid/Tomato cracking/Screenshot 2021-02-11 202507.png  \n",
            " extracting: data_tom/valid/Tomato cracking/Screenshot 2021-02-11 202530.png  \n",
            " extracting: data_tom/valid/Tomato cracking/Screenshot 2021-02-11 202551.png  \n",
            " extracting: data_tom/valid/Tomato cracking/Screenshot 2021-02-11 202610.png  \n",
            " extracting: data_tom/valid/Tomato cracking/Screenshot 2021-02-11 202638.png  \n",
            " extracting: data_tom/valid/Tomato cracking/Screenshot 2021-02-11 202656.png  \n",
            " extracting: data_tom/valid/Tomato cracking/Screenshot 2021-02-11 202719.png  \n",
            " extracting: data_tom/valid/Tomato cracking/Screenshot 2021-02-11 202750.png  \n",
            " extracting: data_tom/valid/Tomato cracking/Screenshot 2021-02-11 202811.png  \n",
            " extracting: data_tom/valid/Tomato cracking/Screenshot 2021-02-11 202832.png  \n",
            " extracting: data_tom/valid/Tomato cracking/Screenshot 2021-02-11 202857.png  \n",
            " extracting: data_tom/valid/Tomato cracking/Screenshot 2021-02-11 202922.png  \n"
          ],
          "name": "stdout"
        }
      ]
    },
    {
      "cell_type": "code",
      "metadata": {
        "id": "AvnWm9YltD52"
      },
      "source": [
        "import matplotlib.pyplot as plt\n",
        "import numpy as np\n",
        "import os\n",
        "import PIL\n",
        "import tensorflow as tf\n",
        "import pathlib\n",
        "from tensorflow import keras\n",
        "from tensorflow.keras import layers\n",
        "from tensorflow.keras.models import Sequential\n",
        "from keras.layers import Activation, Dense\n",
        "from tensorflow.keras import Model\n",
        "from tensorflow.keras.preprocessing import image_dataset_from_directory\n",
        "from tensorflow.keras.preprocessing.image import ImageDataGenerator"
      ],
      "execution_count": null,
      "outputs": []
    },
    {
      "cell_type": "code",
      "metadata": {
        "colab": {
          "base_uri": "https://localhost:8080/"
        },
        "id": "Ix61hms32LmZ",
        "outputId": "2298b9d8-636e-4f09-ae58-bce611a6e6d6"
      },
      "source": [
        "train_path='/content/data_tom/train'\n",
        "valid_path='/content/data_tom/valid'\n",
        "train_batches=ImageDataGenerator(preprocessing_function=tf.keras.applications.mobilenet.preprocess_input).flow_from_directory(directory=train_path,target_size=(224,224),batch_size=10)\n",
        "val_batches=ImageDataGenerator(preprocessing_function=tf.keras.applications.mobilenet.preprocess_input).flow_from_directory(directory=valid_path,target_size=(224,224),batch_size=10)"
      ],
      "execution_count": null,
      "outputs": [
        {
          "output_type": "stream",
          "text": [
            "Found 289 images belonging to 4 classes.\n",
            "Found 200 images belonging to 4 classes.\n"
          ],
          "name": "stdout"
        }
      ]
    },
    {
      "cell_type": "code",
      "metadata": {
        "colab": {
          "base_uri": "https://localhost:8080/"
        },
        "id": "bOCNOpmstJI_",
        "outputId": "b548a28a-c140-4a03-e1da-ef47cfe079c4"
      },
      "source": [
        "mobile=tf.keras.applications.mobilenet.MobileNet()"
      ],
      "execution_count": null,
      "outputs": [
        {
          "output_type": "stream",
          "text": [
            "Downloading data from https://storage.googleapis.com/tensorflow/keras-applications/mobilenet/mobilenet_1_0_224_tf.h5\n",
            "17227776/17225924 [==============================] - 0s 0us/step\n"
          ],
          "name": "stdout"
        }
      ]
    },
    {
      "cell_type": "code",
      "metadata": {
        "id": "U619j7biteWR"
      },
      "source": [
        "x=mobile.layers[-6].output\n",
        "output=Dense(units=4,activation='softmax')(x)"
      ],
      "execution_count": null,
      "outputs": []
    },
    {
      "cell_type": "code",
      "metadata": {
        "id": "t34eelVEuYl5"
      },
      "source": [
        "model=Model(inputs=mobile.input,outputs=output)"
      ],
      "execution_count": null,
      "outputs": []
    },
    {
      "cell_type": "code",
      "metadata": {
        "id": "Ar6I2Ricv02z"
      },
      "source": [
        "for layer in model.layers[:23]:\n",
        "  layer.trainable=False"
      ],
      "execution_count": null,
      "outputs": []
    },
    {
      "cell_type": "code",
      "metadata": {
        "id": "MmqRB_9vxLD7"
      },
      "source": [
        "model.compile(optimizer=tf.keras.optimizers.Adam(lr=0.0001),loss='categorical_crossentropy',metrics=['accuracy'])"
      ],
      "execution_count": null,
      "outputs": []
    },
    {
      "cell_type": "code",
      "metadata": {
        "colab": {
          "base_uri": "https://localhost:8080/"
        },
        "id": "-qqZF3iVxkFi",
        "outputId": "e0b9a520-cbf5-42f6-b1ab-766595481492"
      },
      "source": [
        "model.fit(x=train_batches,validation_data=val_batches,epochs=14,verbose=2)"
      ],
      "execution_count": null,
      "outputs": [
        {
          "output_type": "stream",
          "text": [
            "Epoch 1/14\n",
            "29/29 - 47s - loss: 0.0171 - accuracy: 1.0000 - val_loss: 0.4395 - val_accuracy: 0.8400\n",
            "Epoch 2/14\n",
            "29/29 - 47s - loss: 0.0072 - accuracy: 1.0000 - val_loss: 0.4377 - val_accuracy: 0.8450\n",
            "Epoch 3/14\n",
            "29/29 - 47s - loss: 0.0128 - accuracy: 1.0000 - val_loss: 0.4838 - val_accuracy: 0.8300\n",
            "Epoch 4/14\n",
            "29/29 - 47s - loss: 0.0156 - accuracy: 0.9965 - val_loss: 0.4500 - val_accuracy: 0.8500\n",
            "Epoch 5/14\n",
            "29/29 - 47s - loss: 0.0168 - accuracy: 0.9965 - val_loss: 0.4889 - val_accuracy: 0.8250\n",
            "Epoch 6/14\n",
            "29/29 - 47s - loss: 0.0077 - accuracy: 1.0000 - val_loss: 0.4646 - val_accuracy: 0.8350\n",
            "Epoch 7/14\n",
            "29/29 - 46s - loss: 0.0114 - accuracy: 0.9965 - val_loss: 0.4352 - val_accuracy: 0.8400\n",
            "Epoch 8/14\n",
            "29/29 - 47s - loss: 0.0049 - accuracy: 1.0000 - val_loss: 0.4573 - val_accuracy: 0.8500\n",
            "Epoch 9/14\n",
            "29/29 - 49s - loss: 0.0117 - accuracy: 0.9965 - val_loss: 0.4067 - val_accuracy: 0.8500\n",
            "Epoch 10/14\n",
            "29/29 - 48s - loss: 0.0070 - accuracy: 0.9965 - val_loss: 0.4473 - val_accuracy: 0.8600\n",
            "Epoch 11/14\n",
            "29/29 - 45s - loss: 0.0040 - accuracy: 1.0000 - val_loss: 0.4578 - val_accuracy: 0.8400\n",
            "Epoch 12/14\n",
            "29/29 - 46s - loss: 0.0040 - accuracy: 1.0000 - val_loss: 0.4694 - val_accuracy: 0.8400\n",
            "Epoch 13/14\n",
            "29/29 - 45s - loss: 0.0035 - accuracy: 1.0000 - val_loss: 0.4780 - val_accuracy: 0.8400\n",
            "Epoch 14/14\n",
            "29/29 - 45s - loss: 0.0028 - accuracy: 1.0000 - val_loss: 0.4699 - val_accuracy: 0.8350\n"
          ],
          "name": "stdout"
        },
        {
          "output_type": "execute_result",
          "data": {
            "text/plain": [
              "<tensorflow.python.keras.callbacks.History at 0x7f740ac25cd0>"
            ]
          },
          "metadata": {
            "tags": []
          },
          "execution_count": 22
        }
      ]
    },
    {
      "cell_type": "code",
      "metadata": {
        "id": "pWFzMvBoEAjT",
        "colab": {
          "base_uri": "https://localhost:8080/"
        },
        "outputId": "6ba85bc6-9cb2-45b5-e4c2-c3dec2a61c68"
      },
      "source": [
        "converter = tf.lite.TFLiteConverter.from_keras_model(model)\n",
        "tflite_model = converter.convert()"
      ],
      "execution_count": null,
      "outputs": [
        {
          "output_type": "stream",
          "text": [
            "INFO:tensorflow:Assets written to: /tmp/tmpdu2suu3e/assets\n"
          ],
          "name": "stdout"
        },
        {
          "output_type": "stream",
          "text": [
            "INFO:tensorflow:Assets written to: /tmp/tmpdu2suu3e/assets\n"
          ],
          "name": "stderr"
        }
      ]
    },
    {
      "cell_type": "code",
      "metadata": {
        "id": "HYbE0sYfMqiE"
      },
      "source": [
        "with open('tom_model.tflite', 'wb') as f:\n",
        "  f.write(tflite_model)"
      ],
      "execution_count": null,
      "outputs": []
    },
    {
      "cell_type": "code",
      "metadata": {
        "colab": {
          "base_uri": "https://localhost:8080/",
          "height": 34
        },
        "id": "1NDtvTytMJIo",
        "outputId": "b65497ce-4de9-4df9-f754-033ad3174410"
      },
      "source": [
        "from google.colab import files\n",
        "files.download(\"/content/tom_model.tflite\")\n"
      ],
      "execution_count": null,
      "outputs": [
        {
          "output_type": "display_data",
          "data": {
            "application/javascript": [
              "\n",
              "    async function download(id, filename, size) {\n",
              "      if (!google.colab.kernel.accessAllowed) {\n",
              "        return;\n",
              "      }\n",
              "      const div = document.createElement('div');\n",
              "      const label = document.createElement('label');\n",
              "      label.textContent = `Downloading \"${filename}\": `;\n",
              "      div.appendChild(label);\n",
              "      const progress = document.createElement('progress');\n",
              "      progress.max = size;\n",
              "      div.appendChild(progress);\n",
              "      document.body.appendChild(div);\n",
              "\n",
              "      const buffers = [];\n",
              "      let downloaded = 0;\n",
              "\n",
              "      const channel = await google.colab.kernel.comms.open(id);\n",
              "      // Send a message to notify the kernel that we're ready.\n",
              "      channel.send({})\n",
              "\n",
              "      for await (const message of channel.messages) {\n",
              "        // Send a message to notify the kernel that we're ready.\n",
              "        channel.send({})\n",
              "        if (message.buffers) {\n",
              "          for (const buffer of message.buffers) {\n",
              "            buffers.push(buffer);\n",
              "            downloaded += buffer.byteLength;\n",
              "            progress.value = downloaded;\n",
              "          }\n",
              "        }\n",
              "      }\n",
              "      const blob = new Blob(buffers, {type: 'application/binary'});\n",
              "      const a = document.createElement('a');\n",
              "      a.href = window.URL.createObjectURL(blob);\n",
              "      a.download = filename;\n",
              "      div.appendChild(a);\n",
              "      a.click();\n",
              "      div.remove();\n",
              "    }\n",
              "  "
            ],
            "text/plain": [
              "<IPython.core.display.Javascript object>"
            ]
          },
          "metadata": {
            "tags": []
          }
        },
        {
          "output_type": "display_data",
          "data": {
            "application/javascript": [
              "download(\"download_082445f5-7c25-4876-b7c3-bb0db0a0d6c6\", \"tom_model.tflite\", 12816144)"
            ],
            "text/plain": [
              "<IPython.core.display.Javascript object>"
            ]
          },
          "metadata": {
            "tags": []
          }
        }
      ]
    }
  ]
}