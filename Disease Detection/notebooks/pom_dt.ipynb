{
  "nbformat": 4,
  "nbformat_minor": 0,
  "metadata": {
    "colab": {
      "name": "pom_dt.ipynb",
      "provenance": []
    },
    "kernelspec": {
      "name": "python3",
      "display_name": "Python 3"
    }
  },
  "cells": [
    {
      "cell_type": "code",
      "metadata": {
        "colab": {
          "resources": {
            "http://localhost:8080/nbextensions/google.colab/files.js": {
              "data": "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",
              "ok": true,
              "headers": [
                [
                  "content-type",
                  "application/javascript"
                ]
              ],
              "status": 200,
              "status_text": ""
            }
          },
          "base_uri": "https://localhost:8080/",
          "height": 72
        },
        "id": "vdG8dbi6scpU",
        "outputId": "5f676e90-1b0b-416c-ec01-4674e42f662e"
      },
      "source": [
        "from google.colab import files\n",
        "uploaded=files.upload()"
      ],
      "execution_count": null,
      "outputs": [
        {
          "output_type": "display_data",
          "data": {
            "text/html": [
              "\n",
              "     <input type=\"file\" id=\"files-8d9817cd-aac9-4e21-a6a0-ae0841c64db7\" name=\"files[]\" multiple disabled\n",
              "        style=\"border:none\" />\n",
              "     <output id=\"result-8d9817cd-aac9-4e21-a6a0-ae0841c64db7\">\n",
              "      Upload widget is only available when the cell has been executed in the\n",
              "      current browser session. Please rerun this cell to enable.\n",
              "      </output>\n",
              "      <script src=\"/nbextensions/google.colab/files.js\"></script> "
            ],
            "text/plain": [
              "<IPython.core.display.HTML object>"
            ]
          },
          "metadata": {
            "tags": []
          }
        },
        {
          "output_type": "stream",
          "text": [
            "Saving data_pom.zip to data_pom.zip\n"
          ],
          "name": "stdout"
        }
      ]
    },
    {
      "cell_type": "code",
      "metadata": {
        "colab": {
          "base_uri": "https://localhost:8080/"
        },
        "id": "sjw85R_dzF9V",
        "outputId": "59a9793c-981f-4946-bc28-48dce7e6e98e"
      },
      "source": [
        "!unzip data_pom.zip"
      ],
      "execution_count": null,
      "outputs": [
        {
          "output_type": "stream",
          "text": [
            "Archive:  data_pom.zip\n",
            "   creating: data_pom/\n",
            "   creating: data_pom/train/\n",
            "   creating: data_pom/train/Bacterial blight/\n",
            "  inflating: data_pom/train/Bacterial blight/4b0bfd_839db0d167dc4393b44887d93c754315.jpg  \n",
            "  inflating: data_pom/train/Bacterial blight/IMG_20210406_233236.jpg  \n",
            "  inflating: data_pom/train/Bacterial blight/IMG_20210406_233435.jpg  \n",
            "  inflating: data_pom/train/Bacterial blight/IMG_20210406_233601.jpg  \n",
            "  inflating: data_pom/train/Bacterial blight/IMG_20210406_233622.jpg  \n",
            "  inflating: data_pom/train/Bacterial blight/IMG_20210406_234020.jpg  \n",
            "  inflating: data_pom/train/Bacterial blight/IMG_20210407_203123.jpg  \n",
            "  inflating: data_pom/train/Bacterial blight/IMG_20210407_203137.jpg  \n",
            "  inflating: data_pom/train/Bacterial blight/IMG_20210407_203200.jpg  \n",
            "  inflating: data_pom/train/Bacterial blight/IMG_20210407_203226.jpg  \n",
            "  inflating: data_pom/train/Bacterial blight/IMG_20210407_203243.jpg  \n",
            "  inflating: data_pom/train/Bacterial blight/IMG_20210407_203316.jpg  \n",
            "  inflating: data_pom/train/Bacterial blight/IMG_20210407_203335.jpg  \n",
            "  inflating: data_pom/train/Bacterial blight/IMG_20210407_203351.jpg  \n",
            "  inflating: data_pom/train/Bacterial blight/IMG_20210407_203437.jpg  \n",
            "  inflating: data_pom/train/Bacterial blight/IMG_20210407_203601.jpg  \n",
            "  inflating: data_pom/train/Bacterial blight/IMG_20210407_203632.jpg  \n",
            "  inflating: data_pom/train/Bacterial blight/IMG_20210407_203652.jpg  \n",
            "  inflating: data_pom/train/Bacterial blight/IMG_20210407_203709.jpg  \n",
            "  inflating: data_pom/train/Bacterial blight/IMG_20210407_203732.jpg  \n",
            "  inflating: data_pom/train/Bacterial blight/IMG_20210407_203749.jpg  \n",
            "  inflating: data_pom/train/Bacterial blight/IMG_20210407_203803.jpg  \n",
            "  inflating: data_pom/train/Bacterial blight/IMG_20210407_203819.jpg  \n",
            "  inflating: data_pom/train/Bacterial blight/IMG_20210407_203833.jpg  \n",
            "  inflating: data_pom/train/Bacterial blight/IMG_20210407_203853.jpg  \n",
            "  inflating: data_pom/train/Bacterial blight/IMG_20210407_203907.jpg  \n",
            "  inflating: data_pom/train/Bacterial blight/IMG_20210407_203920.jpg  \n",
            "  inflating: data_pom/train/Bacterial blight/IMG_20210407_203937.jpg  \n",
            "  inflating: data_pom/train/Bacterial blight/IMG_20210407_203953.jpg  \n",
            "  inflating: data_pom/train/Bacterial blight/IMG_20210407_204014.jpg  \n",
            "  inflating: data_pom/train/Bacterial blight/IMG_20210407_204156.jpg  \n",
            "  inflating: data_pom/train/Bacterial blight/IMG_20210407_204216.jpg  \n",
            "  inflating: data_pom/train/Bacterial blight/IMG_20210407_204232.jpg  \n",
            "  inflating: data_pom/train/Bacterial blight/IMG_20210407_204252.jpg  \n",
            "  inflating: data_pom/train/Bacterial blight/IMG_20210407_204308.jpg  \n",
            "  inflating: data_pom/train/Bacterial blight/IMG_20210407_204327.jpg  \n",
            "  inflating: data_pom/train/Bacterial blight/IMG_20210407_204344.jpg  \n",
            "  inflating: data_pom/train/Bacterial blight/IMG_20210407_204357.jpg  \n",
            "  inflating: data_pom/train/Bacterial blight/IMG_20210407_204409.jpg  \n",
            "  inflating: data_pom/train/Bacterial blight/IMG_20210407_204439.jpg  \n",
            "  inflating: data_pom/train/Bacterial blight/IMG_20210407_204452.jpg  \n",
            " extracting: data_pom/train/Bacterial blight/Screenshot 2021-02-12 120135.png  \n",
            " extracting: data_pom/train/Bacterial blight/Screenshot 2021-02-12 120248.png  \n",
            " extracting: data_pom/train/Bacterial blight/Screenshot 2021-02-12 120313.png  \n",
            " extracting: data_pom/train/Bacterial blight/Screenshot 2021-02-12 120342.png  \n",
            " extracting: data_pom/train/Bacterial blight/Screenshot 2021-02-12 120404.png  \n",
            " extracting: data_pom/train/Bacterial blight/Screenshot 2021-02-12 120424.png  \n",
            " extracting: data_pom/train/Bacterial blight/Screenshot 2021-02-12 120449.png  \n",
            " extracting: data_pom/train/Bacterial blight/Screenshot 2021-02-12 120536.png  \n",
            " extracting: data_pom/train/Bacterial blight/Screenshot 2021-02-12 120606.png  \n",
            " extracting: data_pom/train/Bacterial blight/Screenshot 2021-02-12 120656.png  \n",
            "  inflating: data_pom/train/Bacterial blight/Screenshot 2021-02-12 120746.png  \n",
            " extracting: data_pom/train/Bacterial blight/Screenshot 2021-02-12 120821.png  \n",
            " extracting: data_pom/train/Bacterial blight/Screenshot 2021-02-12 120922.png  \n",
            " extracting: data_pom/train/Bacterial blight/Screenshot 2021-02-12 121026.png  \n",
            " extracting: data_pom/train/Bacterial blight/Screenshot 2021-02-12 121217.png  \n",
            " extracting: data_pom/train/Bacterial blight/Screenshot 2021-02-12 123924.png  \n",
            " extracting: data_pom/train/Bacterial blight/Screenshot 2021-02-12 124030.png  \n",
            " extracting: data_pom/train/Bacterial blight/Screenshot 2021-02-12 124055.png  \n",
            " extracting: data_pom/train/Bacterial blight/Screenshot 2021-02-12 124147.png  \n",
            " extracting: data_pom/train/Bacterial blight/Screenshot 2021-02-12 124250.png  \n",
            " extracting: data_pom/train/Bacterial blight/Screenshot 2021-02-12 132514.png  \n",
            " extracting: data_pom/train/Bacterial blight/Screenshot 2021-02-12 151439.png  \n",
            " extracting: data_pom/train/Bacterial blight/Screenshot 2021-02-12 152254 - Copy.png  \n",
            " extracting: data_pom/train/Bacterial blight/Screenshot 2021-02-12 152317 - Copy.png  \n",
            " extracting: data_pom/train/Bacterial blight/Screenshot 2021-02-12 152334.png  \n",
            " extracting: data_pom/train/Bacterial blight/Screenshot 2021-02-12 152348.png  \n",
            " extracting: data_pom/train/Bacterial blight/Screenshot 2021-02-12 152401.png  \n",
            " extracting: data_pom/train/Bacterial blight/Screenshot 2021-02-12 152414.png  \n",
            "  inflating: data_pom/train/Bacterial blight/Screenshot_2021-04-06-23-41-34-89.jpg  \n",
            "   creating: data_pom/train/Fruitspot/\n",
            "  inflating: data_pom/train/Fruitspot/download.jpg  \n",
            "  inflating: data_pom/train/Fruitspot/IMG_20210407_205517.jpg  \n",
            "  inflating: data_pom/train/Fruitspot/IMG_20210407_205711.jpg  \n",
            "  inflating: data_pom/train/Fruitspot/IMG_20210407_210605.jpg  \n",
            "  inflating: data_pom/train/Fruitspot/IMG_20210407_210638.jpg  \n",
            "  inflating: data_pom/train/Fruitspot/IMG_20210407_210658.jpg  \n",
            "  inflating: data_pom/train/Fruitspot/IMG_20210407_210805.jpg  \n",
            "  inflating: data_pom/train/Fruitspot/IMG_20210407_210823.jpg  \n",
            "  inflating: data_pom/train/Fruitspot/IMG_20210407_210837.jpg  \n",
            "  inflating: data_pom/train/Fruitspot/IMG_20210407_210900.jpg  \n",
            "  inflating: data_pom/train/Fruitspot/IMG_20210407_210919.jpg  \n",
            "  inflating: data_pom/train/Fruitspot/IMG_20210407_210935.jpg  \n",
            "  inflating: data_pom/train/Fruitspot/IMG_20210407_211105.jpg  \n",
            "  inflating: data_pom/train/Fruitspot/IMG_20210407_211117.jpg  \n",
            "  inflating: data_pom/train/Fruitspot/IMG_20210407_211129.jpg  \n",
            "  inflating: data_pom/train/Fruitspot/IMG_20210407_211140.jpg  \n",
            "  inflating: data_pom/train/Fruitspot/IMG_20210407_211206.jpg  \n",
            "  inflating: data_pom/train/Fruitspot/IMG_20210407_211219.jpg  \n",
            "  inflating: data_pom/train/Fruitspot/IMG_20210407_213550.jpg  \n",
            "  inflating: data_pom/train/Fruitspot/IMG_20210407_213606.jpg  \n",
            "  inflating: data_pom/train/Fruitspot/IMG_20210407_213617.jpg  \n",
            "  inflating: data_pom/train/Fruitspot/IMG_20210407_213629.jpg  \n",
            "  inflating: data_pom/train/Fruitspot/IMG_20210407_213640.jpg  \n",
            "  inflating: data_pom/train/Fruitspot/IMG_20210407_213659.jpg  \n",
            "  inflating: data_pom/train/Fruitspot/IMG_20210407_213739.jpg  \n",
            "  inflating: data_pom/train/Fruitspot/IMG_20210407_213755.jpg  \n",
            "  inflating: data_pom/train/Fruitspot/IMG_20210407_213811.jpg  \n",
            "  inflating: data_pom/train/Fruitspot/IMG_20210407_213820.jpg  \n",
            "  inflating: data_pom/train/Fruitspot/IMG_20210407_213829.jpg  \n",
            "  inflating: data_pom/train/Fruitspot/IMG_20210407_213840.jpg  \n",
            "  inflating: data_pom/train/Fruitspot/IMG_20210407_213857.jpg  \n",
            "  inflating: data_pom/train/Fruitspot/IMG_20210407_213909.jpg  \n",
            "  inflating: data_pom/train/Fruitspot/IMG_20210407_213930.jpg  \n",
            "  inflating: data_pom/train/Fruitspot/IMG_20210407_214004.jpg  \n",
            "  inflating: data_pom/train/Fruitspot/IMG_20210408_094954.jpg  \n",
            "  inflating: data_pom/train/Fruitspot/IMG_20210408_095320.jpg  \n",
            "  inflating: data_pom/train/Fruitspot/POM-HeartRot-300x218.jpg  \n",
            "  inflating: data_pom/train/Fruitspot/Pomegranite-4-2-300x225.jpg  \n",
            " extracting: data_pom/train/Fruitspot/Screenshot 2021-02-12 131359.png  \n",
            " extracting: data_pom/train/Fruitspot/Screenshot 2021-02-12 131421.png  \n",
            " extracting: data_pom/train/Fruitspot/Screenshot 2021-02-12 131433.png  \n",
            " extracting: data_pom/train/Fruitspot/Screenshot 2021-02-12 131458.png  \n",
            " extracting: data_pom/train/Fruitspot/Screenshot 2021-02-12 131515.png  \n",
            " extracting: data_pom/train/Fruitspot/Screenshot 2021-02-12 131552.png  \n",
            "  inflating: data_pom/train/Fruitspot/Screenshot 2021-02-12 131604.png  \n",
            " extracting: data_pom/train/Fruitspot/Screenshot 2021-02-12 131617.png  \n",
            " extracting: data_pom/train/Fruitspot/Screenshot 2021-02-12 131743.png  \n",
            " extracting: data_pom/train/Fruitspot/Screenshot 2021-02-12 131808.png  \n",
            " extracting: data_pom/train/Fruitspot/Screenshot 2021-02-12 131832.png  \n",
            " extracting: data_pom/train/Fruitspot/Screenshot 2021-02-12 131846.png  \n",
            " extracting: data_pom/train/Fruitspot/Screenshot 2021-02-12 131858.png  \n",
            " extracting: data_pom/train/Fruitspot/Screenshot 2021-02-12 131912.png  \n",
            " extracting: data_pom/train/Fruitspot/Screenshot 2021-02-12 131936.png  \n",
            " extracting: data_pom/train/Fruitspot/Screenshot 2021-02-12 131952.png  \n",
            " extracting: data_pom/train/Fruitspot/Screenshot 2021-02-12 132010.png  \n",
            " extracting: data_pom/train/Fruitspot/Screenshot 2021-02-12 132138.png  \n",
            " extracting: data_pom/train/Fruitspot/Screenshot 2021-02-12 132221.png  \n",
            " extracting: data_pom/train/Fruitspot/Screenshot 2021-02-12 132306.png  \n",
            " extracting: data_pom/train/Fruitspot/Screenshot 2021-02-12 132424.png  \n",
            " extracting: data_pom/train/Fruitspot/Screenshot 2021-02-12 132437.png  \n",
            " extracting: data_pom/train/Fruitspot/Screenshot 2021-02-12 132553.png  \n",
            " extracting: data_pom/train/Fruitspot/Screenshot 2021-02-12 132621.png  \n",
            " extracting: data_pom/train/Fruitspot/Screenshot 2021-02-12 132638.png  \n",
            " extracting: data_pom/train/Fruitspot/Screenshot 2021-02-12 132648.png  \n",
            " extracting: data_pom/train/Fruitspot/Screenshot 2021-02-12 132658.png  \n",
            " extracting: data_pom/train/Fruitspot/Screenshot 2021-02-12 132732.png  \n",
            " extracting: data_pom/train/Fruitspot/Screenshot 2021-02-12 132800.png  \n",
            " extracting: data_pom/train/Fruitspot/Screenshot 2021-02-12 132811.png  \n",
            " extracting: data_pom/train/Fruitspot/Screenshot 2021-02-12 132847.png  \n",
            "  inflating: data_pom/train/Fruitspot/Screenshot 2021-02-12 132910.png  \n",
            "   creating: data_pom/train/Normal/\n",
            "  inflating: data_pom/train/Normal/330px-Pomegranate_(opened).jpg  \n",
            "  inflating: data_pom/train/Normal/download (1).jpg  \n",
            " extracting: data_pom/train/Normal/download (2).jpg  \n",
            " extracting: data_pom/train/Normal/download (3).jpg  \n",
            "  inflating: data_pom/train/Normal/IMG_20210407_205556.jpg  \n",
            "  inflating: data_pom/train/Normal/IMG_20210407_205619.jpg  \n",
            "  inflating: data_pom/train/Normal/IMG_20210407_205634.jpg  \n",
            "  inflating: data_pom/train/Normal/IMG_20210408_000429.jpg  \n",
            "  inflating: data_pom/train/Normal/IMG_20210408_000444.jpg  \n",
            "  inflating: data_pom/train/Normal/IMG_20210408_000500.jpg  \n",
            "  inflating: data_pom/train/Normal/IMG_20210408_000523.jpg  \n",
            "  inflating: data_pom/train/Normal/IMG_20210408_000535.jpg  \n",
            "  inflating: data_pom/train/Normal/IMG_20210408_000548.jpg  \n",
            "  inflating: data_pom/train/Normal/IMG_20210408_000610.jpg  \n",
            "  inflating: data_pom/train/Normal/IMG_20210408_000621.jpg  \n",
            "  inflating: data_pom/train/Normal/IMG_20210408_000634.jpg  \n",
            "  inflating: data_pom/train/Normal/IMG_20210408_000658.jpg  \n",
            "  inflating: data_pom/train/Normal/IMG_20210408_000714.jpg  \n",
            "  inflating: data_pom/train/Normal/IMG_20210408_000746.jpg  \n",
            "  inflating: data_pom/train/Normal/IMG_20210408_000757.jpg  \n",
            "  inflating: data_pom/train/Normal/IMG_20210408_000810.jpg  \n",
            "  inflating: data_pom/train/Normal/IMG_20210408_000826.jpg  \n",
            "  inflating: data_pom/train/Normal/IMG_20210408_094941.jpg  \n",
            "  inflating: data_pom/train/Normal/IMG_20210408_095011.jpg  \n",
            "  inflating: data_pom/train/Normal/IMG_20210408_095024.jpg  \n",
            "  inflating: data_pom/train/Normal/IMG_20210408_095034.jpg  \n",
            "  inflating: data_pom/train/Normal/IMG_20210408_095049.jpg  \n",
            "  inflating: data_pom/train/Normal/IMG_20210408_095103.jpg  \n",
            "  inflating: data_pom/train/Normal/IMG_20210408_095111.jpg  \n",
            "  inflating: data_pom/train/Normal/IMG_20210408_095135.jpg  \n",
            "  inflating: data_pom/train/Normal/IMG_20210408_095146.jpg  \n",
            "  inflating: data_pom/train/Normal/IMG_20210408_095200.jpg  \n",
            "  inflating: data_pom/train/Normal/IMG_20210408_095214.jpg  \n",
            "  inflating: data_pom/train/Normal/IMG_20210408_095224.jpg  \n",
            "  inflating: data_pom/train/Normal/IMG_20210408_095234.jpg  \n",
            "  inflating: data_pom/train/Normal/Pomegranate_fruit.jpg  \n",
            "  inflating: data_pom/train/Normal/Screenshot 2021-02-12 134214.png  \n",
            " extracting: data_pom/train/Normal/Screenshot 2021-02-12 134329.png  \n",
            " extracting: data_pom/train/Normal/Screenshot 2021-02-12 134434.png  \n",
            " extracting: data_pom/train/Normal/Screenshot 2021-02-12 134617.png  \n",
            " extracting: data_pom/train/Normal/Screenshot 2021-02-12 134719.png  \n",
            " extracting: data_pom/train/Normal/Screenshot 2021-02-12 134818.png  \n",
            " extracting: data_pom/train/Normal/Screenshot 2021-02-12 134847.png  \n",
            " extracting: data_pom/train/Normal/Screenshot 2021-02-12 134902.png  \n",
            " extracting: data_pom/train/Normal/Screenshot 2021-02-12 142955.png  \n",
            " extracting: data_pom/train/Normal/Screenshot 2021-02-12 143118.png  \n",
            " extracting: data_pom/train/Normal/Screenshot 2021-02-12 143151.png  \n",
            " extracting: data_pom/train/Normal/Screenshot 2021-02-12 143209.png  \n",
            " extracting: data_pom/train/Normal/Screenshot 2021-02-12 143233.png  \n",
            " extracting: data_pom/train/Normal/Screenshot 2021-02-12 143252.png  \n",
            " extracting: data_pom/train/Normal/Screenshot 2021-02-12 143327.png  \n",
            "  inflating: data_pom/train/Normal/Screenshot 2021-02-12 143353.png  \n",
            " extracting: data_pom/train/Normal/Screenshot 2021-02-12 143413.png  \n",
            " extracting: data_pom/train/Normal/Screenshot 2021-02-12 143433.png  \n",
            " extracting: data_pom/train/Normal/Screenshot 2021-02-12 143448.png  \n",
            " extracting: data_pom/train/Normal/Screenshot 2021-02-12 143514.png  \n",
            " extracting: data_pom/train/Normal/Screenshot 2021-02-12 143534.png  \n",
            " extracting: data_pom/train/Normal/Screenshot 2021-02-12 143640.png  \n",
            " extracting: data_pom/train/Normal/Screenshot 2021-02-12 143712.png  \n",
            " extracting: data_pom/train/Normal/Screenshot 2021-02-12 143726.png  \n",
            " extracting: data_pom/train/Normal/Screenshot 2021-02-12 143914.png  \n",
            " extracting: data_pom/train/Normal/Screenshot 2021-02-12 143941.png  \n",
            " extracting: data_pom/train/Normal/Screenshot 2021-02-12 144002.png  \n",
            " extracting: data_pom/train/Normal/Screenshot 2021-02-12 144019.png  \n",
            " extracting: data_pom/train/Normal/Screenshot 2021-02-12 144038.png  \n",
            " extracting: data_pom/train/Normal/Screenshot 2021-02-12 144101.png  \n",
            " extracting: data_pom/train/Normal/Screenshot 2021-02-12 144116.png  \n",
            " extracting: data_pom/train/Normal/Screenshot 2021-02-12 144145.png  \n",
            " extracting: data_pom/train/Normal/Screenshot 2021-02-12 144212.png  \n",
            " extracting: data_pom/train/Normal/Screenshot 2021-02-12 144230.png  \n",
            "   creating: data_pom/valid/\n",
            "   creating: data_pom/valid/Bacterial blight/\n",
            " extracting: data_pom/valid/Bacterial blight/Screenshot 2021-02-12 121316.png  \n",
            " extracting: data_pom/valid/Bacterial blight/Screenshot 2021-02-12 121402.png  \n",
            " extracting: data_pom/valid/Bacterial blight/Screenshot 2021-02-12 121511.png  \n",
            "  inflating: data_pom/valid/Bacterial blight/Screenshot 2021-02-12 121554.png  \n",
            " extracting: data_pom/valid/Bacterial blight/Screenshot 2021-02-12 121619.png  \n",
            " extracting: data_pom/valid/Bacterial blight/Screenshot 2021-02-12 121642.png  \n",
            " extracting: data_pom/valid/Bacterial blight/Screenshot 2021-02-12 121724.png  \n",
            " extracting: data_pom/valid/Bacterial blight/Screenshot 2021-02-12 121909.png  \n",
            "  inflating: data_pom/valid/Bacterial blight/Screenshot 2021-02-12 122455.png  \n",
            " extracting: data_pom/valid/Bacterial blight/Screenshot 2021-02-12 123442.png  \n",
            " extracting: data_pom/valid/Bacterial blight/Screenshot 2021-02-12 123514.png  \n",
            " extracting: data_pom/valid/Bacterial blight/Screenshot 2021-02-12 123838.png  \n",
            "   creating: data_pom/valid/Fruitspot/\n",
            " extracting: data_pom/valid/Fruitspot/Screenshot 2021-02-12 130928.png  \n",
            " extracting: data_pom/valid/Fruitspot/Screenshot 2021-02-12 131040.png  \n",
            " extracting: data_pom/valid/Fruitspot/Screenshot 2021-02-12 131055.png  \n",
            " extracting: data_pom/valid/Fruitspot/Screenshot 2021-02-12 131111.png  \n",
            " extracting: data_pom/valid/Fruitspot/Screenshot 2021-02-12 131128.png  \n",
            " extracting: data_pom/valid/Fruitspot/Screenshot 2021-02-12 131205.png  \n",
            " extracting: data_pom/valid/Fruitspot/Screenshot 2021-02-12 131218.png  \n",
            " extracting: data_pom/valid/Fruitspot/Screenshot 2021-02-12 131231.png  \n",
            " extracting: data_pom/valid/Fruitspot/Screenshot 2021-02-12 131242.png  \n",
            " extracting: data_pom/valid/Fruitspot/Screenshot 2021-02-12 131259.png  \n",
            " extracting: data_pom/valid/Fruitspot/Screenshot 2021-02-12 131316.png  \n",
            " extracting: data_pom/valid/Fruitspot/Screenshot 2021-02-12 131342.png  \n",
            "   creating: data_pom/valid/Normal/\n",
            " extracting: data_pom/valid/Normal/Screenshot 2021-02-12 134301.png  \n",
            " extracting: data_pom/valid/Normal/Screenshot 2021-02-12 134317.png  \n",
            " extracting: data_pom/valid/Normal/Screenshot 2021-02-12 134400.png  \n",
            " extracting: data_pom/valid/Normal/Screenshot 2021-02-12 134513.png  \n",
            " extracting: data_pom/valid/Normal/Screenshot 2021-02-12 134528.png  \n",
            " extracting: data_pom/valid/Normal/Screenshot 2021-02-12 134601.png  \n",
            " extracting: data_pom/valid/Normal/Screenshot 2021-02-12 134627.png  \n",
            " extracting: data_pom/valid/Normal/Screenshot 2021-02-12 134649.png  \n",
            "  inflating: data_pom/valid/Normal/Screenshot 2021-02-12 134705.png  \n",
            " extracting: data_pom/valid/Normal/Screenshot 2021-02-12 134732.png  \n",
            " extracting: data_pom/valid/Normal/Screenshot 2021-02-12 134750.png  \n",
            " extracting: data_pom/valid/Normal/Screenshot 2021-02-12 134803.png  \n"
          ],
          "name": "stdout"
        }
      ]
    },
    {
      "cell_type": "code",
      "metadata": {
        "id": "oxEsfgqc3iZx"
      },
      "source": [
        "import matplotlib.pyplot as plt\n",
        "import numpy as np\n",
        "import os\n",
        "import PIL\n",
        "import tensorflow as tf\n",
        "import pathlib\n",
        "from tensorflow import keras\n",
        "from tensorflow.keras import layers\n",
        "from tensorflow.keras.models import Sequential\n",
        "from keras.layers import Activation, Dense\n",
        "from tensorflow.keras import Model\n",
        "from tensorflow.keras.preprocessing import image_dataset_from_directory\n",
        "from tensorflow.keras.preprocessing.image import ImageDataGenerator"
      ],
      "execution_count": null,
      "outputs": []
    },
    {
      "cell_type": "code",
      "metadata": {
        "colab": {
          "base_uri": "https://localhost:8080/"
        },
        "id": "KKYPvDc-3m23",
        "outputId": "ab8bfdbe-eb03-44c5-9f6e-befcdea42c7f"
      },
      "source": [
        "train_path='/content/data_pom/train'\n",
        "valid_path='/content/data_pom/valid'\n",
        "train_batches=ImageDataGenerator(preprocessing_function=tf.keras.applications.mobilenet.preprocess_input,horizontal_flip=True ,vertical_flip=True,rotation_range=0.2).flow_from_directory(directory=train_path,target_size=(224,224),batch_size=10)\n",
        "val_batches=ImageDataGenerator(preprocessing_function=tf.keras.applications.mobilenet.preprocess_input).flow_from_directory(directory=valid_path,target_size=(224,224),batch_size=10)"
      ],
      "execution_count": null,
      "outputs": [
        {
          "output_type": "stream",
          "text": [
            "Found 210 images belonging to 3 classes.\n",
            "Found 36 images belonging to 3 classes.\n"
          ],
          "name": "stdout"
        }
      ]
    },
    {
      "cell_type": "code",
      "metadata": {
        "id": "Khsqd4ig32FE",
        "colab": {
          "base_uri": "https://localhost:8080/"
        },
        "outputId": "7a240b23-4da4-40aa-ad51-fcd6c5164f37"
      },
      "source": [
        "mobile=tf.keras.applications.mobilenet.MobileNet()"
      ],
      "execution_count": null,
      "outputs": [
        {
          "output_type": "stream",
          "text": [
            "Downloading data from https://storage.googleapis.com/tensorflow/keras-applications/mobilenet/mobilenet_1_0_224_tf.h5\n",
            "17227776/17225924 [==============================] - 0s 0us/step\n"
          ],
          "name": "stdout"
        }
      ]
    },
    {
      "cell_type": "code",
      "metadata": {
        "id": "oLz84Mj54aeZ"
      },
      "source": [
        "x=mobile.layers[-6].output\n",
        "output=Dense(units=3,activation='softmax')(x)"
      ],
      "execution_count": null,
      "outputs": []
    },
    {
      "cell_type": "code",
      "metadata": {
        "id": "lrurv6S541mc"
      },
      "source": [
        "model=Model(inputs=mobile.input,outputs=output)"
      ],
      "execution_count": null,
      "outputs": []
    },
    {
      "cell_type": "code",
      "metadata": {
        "id": "ZdHRP7c343-2"
      },
      "source": [
        "for layer in model.layers[:23]:\n",
        "  layer.trainable=False"
      ],
      "execution_count": null,
      "outputs": []
    },
    {
      "cell_type": "code",
      "metadata": {
        "id": "Eo-sPXEj46fk"
      },
      "source": [
        "model.compile(optimizer=tf.keras.optimizers.Adam(lr=0.0001),loss='categorical_crossentropy',metrics=['accuracy'])"
      ],
      "execution_count": null,
      "outputs": []
    },
    {
      "cell_type": "code",
      "metadata": {
        "colab": {
          "base_uri": "https://localhost:8080/"
        },
        "id": "MU42pdr149Nv",
        "outputId": "641368fb-317c-47e9-e7e8-771bdba8834f"
      },
      "source": [
        "model.fit(x=train_batches,validation_data=val_batches,epochs=15,verbose=2)"
      ],
      "execution_count": null,
      "outputs": [
        {
          "output_type": "stream",
          "text": [
            "Epoch 1/15\n",
            "21/21 - 30s - loss: 0.0351 - accuracy: 0.9905 - val_loss: 0.6404 - val_accuracy: 0.8611\n",
            "Epoch 2/15\n",
            "21/21 - 30s - loss: 0.0330 - accuracy: 0.9857 - val_loss: 0.5827 - val_accuracy: 0.8333\n",
            "Epoch 3/15\n",
            "21/21 - 30s - loss: 0.0162 - accuracy: 1.0000 - val_loss: 0.6824 - val_accuracy: 0.8056\n",
            "Epoch 4/15\n",
            "21/21 - 30s - loss: 0.0131 - accuracy: 0.9952 - val_loss: 0.8281 - val_accuracy: 0.7500\n",
            "Epoch 5/15\n",
            "21/21 - 30s - loss: 0.0086 - accuracy: 1.0000 - val_loss: 0.6038 - val_accuracy: 0.7500\n",
            "Epoch 6/15\n",
            "21/21 - 30s - loss: 0.0090 - accuracy: 1.0000 - val_loss: 0.6060 - val_accuracy: 0.7778\n",
            "Epoch 7/15\n",
            "21/21 - 30s - loss: 0.0146 - accuracy: 0.9952 - val_loss: 0.7977 - val_accuracy: 0.7222\n",
            "Epoch 8/15\n",
            "21/21 - 30s - loss: 0.0039 - accuracy: 1.0000 - val_loss: 0.8596 - val_accuracy: 0.7222\n",
            "Epoch 9/15\n",
            "21/21 - 30s - loss: 0.0101 - accuracy: 1.0000 - val_loss: 0.8692 - val_accuracy: 0.7500\n",
            "Epoch 10/15\n",
            "21/21 - 30s - loss: 0.0125 - accuracy: 0.9952 - val_loss: 0.7738 - val_accuracy: 0.8333\n",
            "Epoch 11/15\n",
            "21/21 - 30s - loss: 0.0336 - accuracy: 0.9857 - val_loss: 0.7777 - val_accuracy: 0.8056\n",
            "Epoch 12/15\n",
            "21/21 - 31s - loss: 0.0022 - accuracy: 1.0000 - val_loss: 0.8572 - val_accuracy: 0.7778\n",
            "Epoch 13/15\n",
            "21/21 - 30s - loss: 0.0160 - accuracy: 0.9952 - val_loss: 0.6781 - val_accuracy: 0.8611\n",
            "Epoch 14/15\n",
            "21/21 - 30s - loss: 0.0350 - accuracy: 0.9857 - val_loss: 0.9434 - val_accuracy: 0.8333\n",
            "Epoch 15/15\n",
            "21/21 - 30s - loss: 0.0021 - accuracy: 1.0000 - val_loss: 0.9733 - val_accuracy: 0.8333\n"
          ],
          "name": "stdout"
        },
        {
          "output_type": "execute_result",
          "data": {
            "text/plain": [
              "<tensorflow.python.keras.callbacks.History at 0x7fe599686ad0>"
            ]
          },
          "metadata": {
            "tags": []
          },
          "execution_count": 23
        }
      ]
    },
    {
      "cell_type": "code",
      "metadata": {
        "colab": {
          "base_uri": "https://localhost:8080/"
        },
        "id": "EJtER56SHoe3",
        "outputId": "129222d6-5d27-42e3-bcb4-790ac0bf77ec"
      },
      "source": [
        "converter = tf.lite.TFLiteConverter.from_keras_model(model)\n",
        "tflite_model = converter.convert()"
      ],
      "execution_count": null,
      "outputs": [
        {
          "output_type": "stream",
          "text": [
            "INFO:tensorflow:Assets written to: /tmp/tmp7awynbny/assets\n"
          ],
          "name": "stdout"
        },
        {
          "output_type": "stream",
          "text": [
            "INFO:tensorflow:Assets written to: /tmp/tmp7awynbny/assets\n"
          ],
          "name": "stderr"
        }
      ]
    },
    {
      "cell_type": "code",
      "metadata": {
        "id": "5ed0Xe3oHpRd"
      },
      "source": [
        "with open('pom_model.tflite', 'wb') as f:\n",
        "  f.write(tflite_model)"
      ],
      "execution_count": null,
      "outputs": []
    },
    {
      "cell_type": "code",
      "metadata": {
        "colab": {
          "base_uri": "https://localhost:8080/",
          "height": 17
        },
        "id": "UNWRTk1VZKqu",
        "outputId": "00c06a17-153e-4687-b216-8f22b3ab7c67"
      },
      "source": [
        "from google.colab import files\n",
        "files.download(\"/content/pom_model.tflite\")"
      ],
      "execution_count": null,
      "outputs": [
        {
          "output_type": "display_data",
          "data": {
            "application/javascript": [
              "\n",
              "    async function download(id, filename, size) {\n",
              "      if (!google.colab.kernel.accessAllowed) {\n",
              "        return;\n",
              "      }\n",
              "      const div = document.createElement('div');\n",
              "      const label = document.createElement('label');\n",
              "      label.textContent = `Downloading \"${filename}\": `;\n",
              "      div.appendChild(label);\n",
              "      const progress = document.createElement('progress');\n",
              "      progress.max = size;\n",
              "      div.appendChild(progress);\n",
              "      document.body.appendChild(div);\n",
              "\n",
              "      const buffers = [];\n",
              "      let downloaded = 0;\n",
              "\n",
              "      const channel = await google.colab.kernel.comms.open(id);\n",
              "      // Send a message to notify the kernel that we're ready.\n",
              "      channel.send({})\n",
              "\n",
              "      for await (const message of channel.messages) {\n",
              "        // Send a message to notify the kernel that we're ready.\n",
              "        channel.send({})\n",
              "        if (message.buffers) {\n",
              "          for (const buffer of message.buffers) {\n",
              "            buffers.push(buffer);\n",
              "            downloaded += buffer.byteLength;\n",
              "            progress.value = downloaded;\n",
              "          }\n",
              "        }\n",
              "      }\n",
              "      const blob = new Blob(buffers, {type: 'application/binary'});\n",
              "      const a = document.createElement('a');\n",
              "      a.href = window.URL.createObjectURL(blob);\n",
              "      a.download = filename;\n",
              "      div.appendChild(a);\n",
              "      a.click();\n",
              "      div.remove();\n",
              "    }\n",
              "  "
            ],
            "text/plain": [
              "<IPython.core.display.Javascript object>"
            ]
          },
          "metadata": {
            "tags": []
          }
        },
        {
          "output_type": "display_data",
          "data": {
            "application/javascript": [
              "download(\"download_f8307f98-3f1b-46db-ac5d-ab7b07d29b23\", \"pom_model.tflite\", 12812508)"
            ],
            "text/plain": [
              "<IPython.core.display.Javascript object>"
            ]
          },
          "metadata": {
            "tags": []
          }
        }
      ]
    }
  ]
}